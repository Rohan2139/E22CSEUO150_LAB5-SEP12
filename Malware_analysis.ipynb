{
  "nbformat": 4,
  "nbformat_minor": 0,
  "metadata": {
    "colab": {
      "provenance": [],
      "authorship_tag": "ABX9TyN43QzPqPkOMX5TnG/EkZeW",
      "include_colab_link": true
    },
    "kernelspec": {
      "name": "python3",
      "display_name": "Python 3"
    },
    "language_info": {
      "name": "python"
    }
  },
  "cells": [
    {
      "cell_type": "markdown",
      "metadata": {
        "id": "view-in-github",
        "colab_type": "text"
      },
      "source": [
        "<a href=\"https://colab.research.google.com/github/Rohan2139/E22CSEUO150_LAB5-SEP12/blob/main/Malware_analysis.ipynb\" target=\"_parent\"><img src=\"https://colab.research.google.com/assets/colab-badge.svg\" alt=\"Open In Colab\"/></a>"
      ]
    },
    {
      "cell_type": "code",
      "execution_count": null,
      "metadata": {
        "id": "KnThlCUQB1Ou"
      },
      "outputs": [],
      "source": [
        "import pefile\n",
        "\n",
        "def analyze_pe_file(file_path):\n",
        "    try:\n",
        "        pe = pefile.PE(file_path)\n",
        "\n",
        "        print(\"File Info:\")\n",
        "        print(\"-----------\")\n",
        "        print(\"Machine type: \", hex(pe.FILE_HEADER.Machine))\n",
        "        print(\"Number of Sections: \", pe.FILE_HEADER.NumberOfSections)\n",
        "        print(\"Compile Time: \", pe.FILE_HEADER.TimeDateStamp)\n",
        "        print(\"Entry Point: \", hex(pe.OPTIONAL_HEADER.AddressOfEntryPoint))\n",
        "        print(\"\\nSections:\")\n",
        "        print(\"---------\")\n",
        "        for section in pe.sections:\n",
        "            print(section.Name.decode().rstrip('\\x00'), \"\\tVirtual Size:\", section.Misc_VirtualSize, \"\\tRaw Size:\", section.SizeOfRawData)\n",
        "\n",
        "        print(\"\\nImported Functions:\")\n",
        "        print(\"-------------------\")\n",
        "        for entry in pe.DIRECTORY_ENTRY_IMPORT:\n",
        "            print(entry.dll.decode())\n",
        "            for imp in entry.imports:\n",
        "                print(\"\\t\", imp.name.decode() if imp.name else \"Ordinal:\", hex(imp.address))\n",
        "\n",
        "        print(\"\\nExported Functions:\")\n",
        "        print(\"-------------------\")\n",
        "        if hasattr(pe, 'DIRECTORY_ENTRY_EXPORT'):\n",
        "            for exp in pe.DIRECTORY_ENTRY_EXPORT.symbols:\n",
        "                print(\"\\t\", exp.name.decode())\n",
        "\n",
        "    except pefile.PEFormatError as e:\n",
        "        print(f\"Error: {e}\")\n",
        "\n",
        "if _name_ == \"_main_\":\n",
        "    file_path = input(\"Enter the path of the file to analyze: \")\n",
        "    analyze_pe_file(file_path)"
      ]
    },
    {
      "cell_type": "code",
      "source": [],
      "metadata": {
        "id": "tVaK-BSQCjHE"
      },
      "execution_count": null,
      "outputs": []
    }
  ]
}